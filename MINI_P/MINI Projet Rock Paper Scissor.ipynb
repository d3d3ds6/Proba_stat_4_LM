{
 "cells": [
  {
   "cell_type": "markdown",
   "id": "2d4fc350",
   "metadata": {},
   "source": [
    "# Rock paper Scissor\n",
    "\n",
    "<img src=\"rps.jpg\"\n",
    "     alt=\"Markdown Monster icon\"\n",
    "     style=\"float: left; margin-right: 10px\"\n",
    "     width =\"280px;\"/>\n",
    "\n",
    "\n",
    "## Priciple\n",
    ">A player who decides to play rock will beat another player who has chosen **scissors** (\"rock crushes scissors\" or \"breaks scissors\" or sometimes \"blunts scissors\"), but will lose to one who has played **paper** (\"paper covers rock\"); a play of paper will lose to a play of **scissors** (\"scissors cuts paper\")."
   ]
  },
  {
   "cell_type": "markdown",
   "id": "882cbeed",
   "metadata": {},
   "source": [
    "## 1. Coding the game\n",
    "\n",
    "import numpy as np
import pandas as pd
def remplir():
    x= np.random.choice([" rock " ," paper "," scissors "],2 )
    return x 
def verif (x): 
    if (x[0]==x[1]): 
        #print("Draw") 
        return 0 
    if(x[0]==" paper "):
        if ( x[1]==" rock "):
            #print("palyer 1 choosed: [",x[0],"]player 2 [", x[1] ,"] player 1 wins")
            return 1 
        if (x[1]==" scissors "):
            #print("palyer 1 choosed: [",x[0],"]player 2 [", x[1] ,"] player 2 wins")
            return 3
    if(x[0]==" scissors "):
        if ( x[1]==" rock "):
            #print("palyer 1 choosed: [",x[0],"]player 2 [", x[1] ,"] player 2 wins")
            return 2
        if (x[1]==" paper "):
            #print("palyer 1 choosed: [",x[0],"]player 2 [", x[1] ,"] player 1 wins")
            return 3
    if(x[0]==" rock "):
        if ( x[1]==" paper "):
            #print("palyer 1 choosed: [",x[0],"]player 2 [", x[1] ,"] player 2 wins")
            return 1
        if (x[1]==" scissors "):
            #print("palyer 1 choosed: [",x[0],"]player 2 [", x[1] ,"] player 1 wins")
            return 2
def play(n):
    t=[]
    for i in range(n): 
        t.append(verif(remplir()))
    return t
k=100
unique, counts = np.unique(play(k), return_counts=True)
dic=dict(zip(unique, counts))
df=pd.DataFrame(list(dic.items()),columns=['i','Occurence'])
df.set_index(['i'], inplace=True)
df['Freq']=df['Occurence']/k
df['P({i})']='{0:.3f}'.format(1/3)
print(df)
 "
   ]
  },
  {
   "cell_type": "code",
   "execution_count": null,
   "id": "15f50727",
   "metadata": {},
   "outputs": [],
   "source": []
  },
  {
   "cell_type": "markdown",
   "id": "6ae0cee6",
   "metadata": {},
   "source": [
    "# i = 0 if its a draw 
# i = 1 if its a paper wins 
# i = 2 if its a rock wins 
# i = 3 if its a scissors"
   ]
  },
  {
   "cell_type": "code",
   "execution_count": null,
   "id": "3819ff28",
   "metadata": {},
   "outputs": [],
   "source": []
  }
 ],
 "metadata": {
  "kernelspec": {
   "display_name": "Python 3",
   "language": "python",
   "name": "python3"
  },
  "language_info": {
   "codemirror_mode": {
    "name": "ipython",
    "version": 3
   },
   "file_extension": ".py",
   "mimetype": "text/x-python",
   "name": "python",
   "nbconvert_exporter": "python",
   "pygments_lexer": "ipython3",
   "version": "3.9.13"
  }
 },
 "nbformat": 4,
 "nbformat_minor": 5
}
