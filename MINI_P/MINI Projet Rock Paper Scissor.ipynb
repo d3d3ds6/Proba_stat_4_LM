{
 "cells": [
  {
   "cell_type": "markdown",
   "id": "2d4fc350",
   "metadata": {},
   "source": [
    "# Rock paper Scissor\n",
    "\n",
    "<img src=\"rps.jpg\"\n",
    "     alt=\"Markdown Monster icon\"\n",
    "     style=\"float: left; margin-right: 10px\"\n",
    "     width =\"280px;\"/>\n",
    "\n",
    "\n",
    "## Priciple\n",
    ">A player who decides to play rock will beat another player who has chosen **scissors** (\"rock crushes scissors\" or \"breaks scissors\" or sometimes \"blunts scissors\"), but will lose to one who has played **paper** (\"paper covers rock\"); a play of paper will lose to a play of **scissors** (\"scissors cuts paper\")."
   ]
  },
  {
   "cell_type": "markdown",
   "id": "882cbeed",
   "metadata": {},
   "source": [
    "## 1. Coding the game\n",
    "\n",
    "Write a **python** code to simulate the **rock paper scissor game**. "
   ]
  },
  {
   "cell_type": "code",
   "execution_count": null,
   "id": "15f50727",
   "metadata": {},
   "outputs": [],
   "source": []
  },
  {
   "cell_type": "markdown",
   "id": "6ae0cee6",
   "metadata": {},
   "source": [
    "## What is the probability of winning ? to loose ? to make a draw ??"
   ]
  },
  {
   "cell_type": "code",
   "execution_count": null,
   "id": "3819ff28",
   "metadata": {},
   "outputs": [],
   "source": []
  }
 ],
 "metadata": {
  "kernelspec": {
   "display_name": "Python 3",
   "language": "python",
   "name": "python3"
  },
  "language_info": {
   "codemirror_mode": {
    "name": "ipython",
    "version": 3
   },
   "file_extension": ".py",
   "mimetype": "text/x-python",
   "name": "python",
   "nbconvert_exporter": "python",
   "pygments_lexer": "ipython3",
   "version": "3.9.13"
  }
 },
 "nbformat": 4,
 "nbformat_minor": 5
}
